{
 "cells": [
  {
   "cell_type": "code",
   "execution_count": 6,
   "metadata": {},
   "outputs": [
    {
     "name": "stdout",
     "output_type": "stream",
     "text": [
      "Requirement already satisfied: pandas in c:\\users\\user\\.pyenv\\pyenv-win\\versions\\3.10.11\\lib\\site-packages (2.2.3)Note: you may need to restart the kernel to use updated packages.\n",
      "\n",
      "Requirement already satisfied: tzdata>=2022.7 in c:\\users\\user\\.pyenv\\pyenv-win\\versions\\3.10.11\\lib\\site-packages (from pandas) (2024.2)\n",
      "Requirement already satisfied: python-dateutil>=2.8.2 in c:\\users\\user\\.pyenv\\pyenv-win\\versions\\3.10.11\\lib\\site-packages (from pandas) (2.9.0.post0)\n",
      "Requirement already satisfied: numpy>=1.22.4 in c:\\users\\user\\.pyenv\\pyenv-win\\versions\\3.10.11\\lib\\site-packages (from pandas) (2.2.1)\n",
      "Requirement already satisfied: pytz>=2020.1 in c:\\users\\user\\.pyenv\\pyenv-win\\versions\\3.10.11\\lib\\site-packages (from pandas) (2024.2)\n",
      "Requirement already satisfied: six>=1.5 in c:\\users\\user\\.pyenv\\pyenv-win\\versions\\3.10.11\\lib\\site-packages (from python-dateutil>=2.8.2->pandas) (1.17.0)\n"
     ]
    },
    {
     "name": "stderr",
     "output_type": "stream",
     "text": [
      "\n",
      "[notice] A new release of pip is available: 23.0.1 -> 25.0.1\n",
      "[notice] To update, run: c:\\Users\\user\\.pyenv\\pyenv-win\\versions\\3.10.11\\python.exe -m pip install --upgrade pip\n"
     ]
    },
    {
     "data": {
      "text/html": [
       "<div>\n",
       "<style scoped>\n",
       "    .dataframe tbody tr th:only-of-type {\n",
       "        vertical-align: middle;\n",
       "    }\n",
       "\n",
       "    .dataframe tbody tr th {\n",
       "        vertical-align: top;\n",
       "    }\n",
       "\n",
       "    .dataframe thead th {\n",
       "        text-align: right;\n",
       "    }\n",
       "</style>\n",
       "<table border=\"1\" class=\"dataframe\">\n",
       "  <thead>\n",
       "    <tr style=\"text-align: right;\">\n",
       "      <th></th>\n",
       "      <th>Fecha</th>\n",
       "      <th>Plataforma</th>\n",
       "      <th>inversion</th>\n",
       "      <th>evento_objetivo</th>\n",
       "      <th>Instalaciones</th>\n",
       "      <th>cvr</th>\n",
       "    </tr>\n",
       "  </thead>\n",
       "  <tbody>\n",
       "    <tr>\n",
       "      <th>0</th>\n",
       "      <td>2025-02-25</td>\n",
       "      <td>Google Ads</td>\n",
       "      <td>1245.29</td>\n",
       "      <td>177</td>\n",
       "      <td>796</td>\n",
       "      <td>0.222362</td>\n",
       "    </tr>\n",
       "    <tr>\n",
       "      <th>1</th>\n",
       "      <td>2025-02-25</td>\n",
       "      <td>Meta</td>\n",
       "      <td>1476.11</td>\n",
       "      <td>50</td>\n",
       "      <td>252</td>\n",
       "      <td>0.198413</td>\n",
       "    </tr>\n",
       "    <tr>\n",
       "      <th>2</th>\n",
       "      <td>2025-02-25</td>\n",
       "      <td>TikTok Ads</td>\n",
       "      <td>623.56</td>\n",
       "      <td>36</td>\n",
       "      <td>192</td>\n",
       "      <td>0.187500</td>\n",
       "    </tr>\n",
       "    <tr>\n",
       "      <th>3</th>\n",
       "      <td>2025-02-26</td>\n",
       "      <td>Google Ads</td>\n",
       "      <td>1307.30</td>\n",
       "      <td>268</td>\n",
       "      <td>720</td>\n",
       "      <td>0.372222</td>\n",
       "    </tr>\n",
       "    <tr>\n",
       "      <th>4</th>\n",
       "      <td>2025-02-26</td>\n",
       "      <td>Meta</td>\n",
       "      <td>966.41</td>\n",
       "      <td>95</td>\n",
       "      <td>190</td>\n",
       "      <td>0.500000</td>\n",
       "    </tr>\n",
       "  </tbody>\n",
       "</table>\n",
       "</div>"
      ],
      "text/plain": [
       "        Fecha  Plataforma  inversion  evento_objetivo  Instalaciones       cvr\n",
       "0  2025-02-25  Google Ads    1245.29              177            796  0.222362\n",
       "1  2025-02-25        Meta    1476.11               50            252  0.198413\n",
       "2  2025-02-25  TikTok Ads     623.56               36            192  0.187500\n",
       "3  2025-02-26  Google Ads    1307.30              268            720  0.372222\n",
       "4  2025-02-26        Meta     966.41               95            190  0.500000"
      ]
     },
     "execution_count": 6,
     "metadata": {},
     "output_type": "execute_result"
    }
   ],
   "source": [
    "%pip install pandas\n",
    "import pandas as pd\n",
    "\n",
    "# Load the CSV content into a DataFrame\n",
    "#data = pd.read_csv('file/bquxjob_157d5c5d_1941367a86e.csv')\n",
    "data = pd.read_csv('../test/datos/datos.csv')\n",
    "\n",
    "# Display the first few rows of the DataFrame to understand its structure\n",
    "data.head()"
   ]
  },
  {
   "cell_type": "code",
   "execution_count": 7,
   "metadata": {},
   "outputs": [
    {
     "data": {
      "text/plain": [
       "(        Fecha  Plataforma  inversion  evento_objetivo  Instalaciones       cvr\n",
       " 24 2025-03-05  Google Ads     503.40              198            607  0.326194\n",
       " 25 2025-03-05        Meta     591.15              113            234  0.482906\n",
       " 26 2025-03-05  TikTok Ads     463.64               67            189  0.354497\n",
       " 27 2025-03-06  Google Ads     500.78              172            556  0.309353\n",
       " 28 2025-03-06        Meta     567.28               65            163  0.398773,\n",
       "        Fecha  Plataforma  inversion  evento_objetivo  Instalaciones       cvr\n",
       " 3 2025-02-26  Google Ads    1307.30              268            720  0.372222\n",
       " 4 2025-02-26        Meta     966.41               95            190  0.500000\n",
       " 5 2025-02-26  TikTok Ads     390.59               50            183  0.273224\n",
       " 6 2025-02-27  Google Ads    1367.98              269            748  0.359626\n",
       " 7 2025-02-27        Meta    1009.99               58            105  0.552381)"
      ]
     },
     "execution_count": 7,
     "metadata": {},
     "output_type": "execute_result"
    }
   ],
   "source": [
    "# Convert 'Fecha' to datetime format\n",
    "data['Fecha'] = pd.to_datetime(data['Fecha'])\n",
    "\n",
    "# Find the most recent date in the dataset\n",
    "most_recent_date = data['Fecha'].max()\n",
    "\n",
    "# Define the two periods for comparison\n",
    "period_current_end = most_recent_date\n",
    "period_current_start = period_current_end - pd.Timedelta(days=6)\n",
    "period_previous_end = period_current_start - pd.Timedelta(days=1)\n",
    "period_previous_start = period_previous_end - pd.Timedelta(days=6)\n",
    "\n",
    "# Filter data for the two periods\n",
    "df_current = data[(data['Fecha'] >= period_current_start) & (data['Fecha'] <= period_current_end)]\n",
    "df_previous = data[(data['Fecha'] >= period_previous_start) & (data['Fecha'] <= period_previous_end)]\n",
    "\n",
    "# Check the filtered data\n",
    "df_current.head(), df_previous.head()"
   ]
  },
  {
   "cell_type": "code",
   "execution_count": 8,
   "metadata": {},
   "outputs": [
    {
     "name": "stderr",
     "output_type": "stream",
     "text": [
      "C:\\Users\\user\\AppData\\Local\\Temp\\ipykernel_8044\\3167008449.py:3: SettingWithCopyWarning: \n",
      "A value is trying to be set on a copy of a slice from a DataFrame.\n",
      "Try using .loc[row_indexer,col_indexer] = value instead\n",
      "\n",
      "See the caveats in the documentation: https://pandas.pydata.org/pandas-docs/stable/user_guide/indexing.html#returning-a-view-versus-a-copy\n",
      "  df_current['inversion'] = pd.to_numeric(df_current['inversion'], errors='coerce')\n",
      "C:\\Users\\user\\AppData\\Local\\Temp\\ipykernel_8044\\3167008449.py:4: SettingWithCopyWarning: \n",
      "A value is trying to be set on a copy of a slice from a DataFrame.\n",
      "Try using .loc[row_indexer,col_indexer] = value instead\n",
      "\n",
      "See the caveats in the documentation: https://pandas.pydata.org/pandas-docs/stable/user_guide/indexing.html#returning-a-view-versus-a-copy\n",
      "  df_previous['inversion'] = pd.to_numeric(df_previous['inversion'], errors='coerce')\n"
     ]
    },
    {
     "data": {
      "text/plain": [
       "{'Google Ads': {'inv_prev': np.float64(8517.39),\n",
       "  'cost_prev': np.float64(5.530772727272727),\n",
       "  'event_prev': np.int64(1540),\n",
       "  'inv_curr': np.float64(3550.1),\n",
       "  'cost_curr': np.float64(1.1316863245138666),\n",
       "  'event_curr': np.int64(3137),\n",
       "  'cost_change_pct': np.float64(-79.53836868158727),\n",
       "  'inv_change_pct': np.float64(-58.31939126892157)},\n",
       " 'Meta': {'inv_prev': np.float64(6064.719999999999),\n",
       "  'cost_prev': np.float64(12.376979591836733),\n",
       "  'event_prev': np.int64(490),\n",
       "  'inv_curr': np.float64(4555.84),\n",
       "  'cost_curr': np.float64(7.163270440251573),\n",
       "  'event_curr': np.int64(636),\n",
       "  'cost_change_pct': np.float64(-42.124244553363205),\n",
       "  'inv_change_pct': np.float64(-24.87963170599796)},\n",
       " 'TikTok Ads': {'inv_prev': np.float64(2272.0499999999997),\n",
       "  'cost_prev': np.float64(7.889062499999999),\n",
       "  'event_prev': np.int64(288),\n",
       "  'inv_curr': np.float64(3241.2599999999998),\n",
       "  'cost_curr': np.float64(3.538493449781659),\n",
       "  'event_curr': np.int64(916),\n",
       "  'cost_change_pct': np.float64(-55.14684476410652),\n",
       "  'inv_change_pct': np.float64(42.65795206971678)}}"
      ]
     },
     "execution_count": 8,
     "metadata": {},
     "output_type": "execute_result"
    }
   ],
   "source": [
    "# Convert 'inversion' column to numeric\n",
    "data['inversion'] = pd.to_numeric(data['inversion'], errors='coerce')\n",
    "df_current['inversion'] = pd.to_numeric(df_current['inversion'], errors='coerce')\n",
    "df_previous['inversion'] = pd.to_numeric(df_previous['inversion'], errors='coerce')\n",
    "\n",
    "# Function to calculate metrics for a given period and platform\n",
    "def calculate_metrics(df, platform):\n",
    "    df_platform = df[df['Plataforma'] == platform]\n",
    "    total_inversion = df_platform['inversion'].sum()\n",
    "    total_eventos = df_platform['evento_objetivo'].sum()\n",
    "    costo_medio = total_inversion / total_eventos if total_eventos != 0 else 0\n",
    "    return total_inversion, costo_medio, total_eventos\n",
    "\n",
    "# Get unique platforms\n",
    "platforms = data['Plataforma'].unique()\n",
    "\n",
    "# Calculate metrics for each platform in both periods\n",
    "results = {\n",
    "}\n",
    "for platform in platforms:\n",
    "    inv_prev, cost_prev, event_prev = calculate_metrics(df_previous, platform)\n",
    "    inv_curr, cost_curr, event_curr = calculate_metrics(df_current, platform)\n",
    "    results[platform] = {\n",
    "        'inv_prev': inv_prev,\n",
    "        'cost_prev': cost_prev,\n",
    "        'event_prev': event_prev,\n",
    "        'inv_curr': inv_curr,\n",
    "        'cost_curr': cost_curr,\n",
    "        'event_curr': event_curr,\n",
    "        'cost_change_pct': ((cost_curr - cost_prev) / cost_prev * 100) if cost_prev != 0 else 0,\n",
    "        'inv_change_pct': ((inv_curr - inv_prev) / inv_prev * 100) if inv_prev != 0 else 0\n",
    "    }\n",
    "\n",
    "results"
   ]
  },
  {
   "cell_type": "code",
   "execution_count": 9,
   "metadata": {},
   "outputs": [
    {
     "name": "stdout",
     "output_type": "stream",
     "text": [
      "Platform: Google Ads\n",
      "inv_prev: 8517.39\n",
      "cost_prev: 5.530772727272727\n",
      "event_prev: 1540\n",
      "inv_curr: 3550.1\n",
      "cost_curr: 1.1316863245138666\n",
      "event_curr: 3137\n",
      "cost_change_pct: -79.53836868158727\n",
      "inv_change_pct: -58.31939126892157\n",
      "\n",
      "Platform: Meta\n",
      "inv_prev: 6064.719999999999\n",
      "cost_prev: 12.376979591836733\n",
      "event_prev: 490\n",
      "inv_curr: 4555.84\n",
      "cost_curr: 7.163270440251573\n",
      "event_curr: 636\n",
      "cost_change_pct: -42.124244553363205\n",
      "inv_change_pct: -24.87963170599796\n",
      "\n",
      "Platform: TikTok Ads\n",
      "inv_prev: 2272.0499999999997\n",
      "cost_prev: 7.889062499999999\n",
      "event_prev: 288\n",
      "inv_curr: 3241.2599999999998\n",
      "cost_curr: 3.538493449781659\n",
      "event_curr: 916\n",
      "cost_change_pct: -55.14684476410652\n",
      "inv_change_pct: 42.65795206971678\n",
      "\n"
     ]
    }
   ],
   "source": [
    "for plt in results:\n",
    "    print(f\"Platform: {plt}\")\n",
    "    for key, value in results[plt].items():\n",
    "        print(f\"{key}: {value}\")\n",
    "    print()"
   ]
  }
 ],
 "metadata": {
  "kernelspec": {
   "display_name": "3.10.11",
   "language": "python",
   "name": "python3"
  },
  "language_info": {
   "codemirror_mode": {
    "name": "ipython",
    "version": 3
   },
   "file_extension": ".py",
   "mimetype": "text/x-python",
   "name": "python",
   "nbconvert_exporter": "python",
   "pygments_lexer": "ipython3",
   "version": "3.10.11"
  }
 },
 "nbformat": 4,
 "nbformat_minor": 2
}
