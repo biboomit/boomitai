{
 "cells": [
  {
   "cell_type": "code",
   "execution_count": 3,
   "metadata": {},
   "outputs": [
    {
     "name": "stdout",
     "output_type": "stream",
     "text": [
      "Requirement already satisfied: pandas in c:\\users\\user\\.pyenv\\pyenv-win\\versions\\3.10.11\\lib\\site-packages (2.2.3)\n",
      "Requirement already satisfied: tzdata>=2022.7 in c:\\users\\user\\.pyenv\\pyenv-win\\versions\\3.10.11\\lib\\site-packages (from pandas) (2024.2)\n",
      "Requirement already satisfied: python-dateutil>=2.8.2 in c:\\users\\user\\.pyenv\\pyenv-win\\versions\\3.10.11\\lib\\site-packages (from pandas) (2.9.0.post0)\n",
      "Requirement already satisfied: pytz>=2020.1 in c:\\users\\user\\.pyenv\\pyenv-win\\versions\\3.10.11\\lib\\site-packages (from pandas) (2024.2)\n",
      "Requirement already satisfied: numpy>=1.22.4 in c:\\users\\user\\.pyenv\\pyenv-win\\versions\\3.10.11\\lib\\site-packages (from pandas) (2.2.1)\n",
      "Requirement already satisfied: six>=1.5 in c:\\users\\user\\.pyenv\\pyenv-win\\versions\\3.10.11\\lib\\site-packages (from python-dateutil>=2.8.2->pandas) (1.17.0)\n",
      "Note: you may need to restart the kernel to use updated packages.\n"
     ]
    },
    {
     "name": "stderr",
     "output_type": "stream",
     "text": [
      "\n",
      "[notice] A new release of pip is available: 23.0.1 -> 24.3.1\n",
      "[notice] To update, run: c:\\Users\\user\\.pyenv\\pyenv-win\\versions\\3.10.11\\python.exe -m pip install --upgrade pip\n"
     ]
    },
    {
     "data": {
      "text/html": [
       "<div>\n",
       "<style scoped>\n",
       "    .dataframe tbody tr th:only-of-type {\n",
       "        vertical-align: middle;\n",
       "    }\n",
       "\n",
       "    .dataframe tbody tr th {\n",
       "        vertical-align: top;\n",
       "    }\n",
       "\n",
       "    .dataframe thead th {\n",
       "        text-align: right;\n",
       "    }\n",
       "</style>\n",
       "<table border=\"1\" class=\"dataframe\">\n",
       "  <thead>\n",
       "    <tr style=\"text-align: right;\">\n",
       "      <th></th>\n",
       "      <th>Fecha</th>\n",
       "      <th>Campania</th>\n",
       "      <th>Plataforma</th>\n",
       "      <th>inversion</th>\n",
       "      <th>evento_objetivo</th>\n",
       "      <th>Instalaciones</th>\n",
       "      <th>cvr</th>\n",
       "    </tr>\n",
       "  </thead>\n",
       "  <tbody>\n",
       "    <tr>\n",
       "      <th>0</th>\n",
       "      <td>2024-12-30</td>\n",
       "      <td>BOOMIT_PEIG_EC_META_ADQUISI_ANDROID_(GAMERS)_I...</td>\n",
       "      <td>Meta</td>\n",
       "      <td>51.68</td>\n",
       "      <td>8</td>\n",
       "      <td>15</td>\n",
       "      <td>0.533333</td>\n",
       "    </tr>\n",
       "    <tr>\n",
       "      <th>1</th>\n",
       "      <td>2024-12-31</td>\n",
       "      <td>BOOMIT_PEIG_EC_META_ADQUISI_ANDROID_(GAMERS)_I...</td>\n",
       "      <td>Meta</td>\n",
       "      <td>44.57</td>\n",
       "      <td>8</td>\n",
       "      <td>22</td>\n",
       "      <td>0.363636</td>\n",
       "    </tr>\n",
       "    <tr>\n",
       "      <th>2</th>\n",
       "      <td>2025-01-03</td>\n",
       "      <td>BOOMIT_PEIG_EC_META_ADQUISI_ANDROID_(GAMERS)_I...</td>\n",
       "      <td>Meta</td>\n",
       "      <td>59.91</td>\n",
       "      <td>15</td>\n",
       "      <td>30</td>\n",
       "      <td>0.500000</td>\n",
       "    </tr>\n",
       "    <tr>\n",
       "      <th>3</th>\n",
       "      <td>2025-01-06</td>\n",
       "      <td>BOOMIT_PEIG_EC_META_ADQUISI_ANDROID_(GAMERS)_I...</td>\n",
       "      <td>Meta</td>\n",
       "      <td>61.21</td>\n",
       "      <td>8</td>\n",
       "      <td>13</td>\n",
       "      <td>0.615385</td>\n",
       "    </tr>\n",
       "    <tr>\n",
       "      <th>4</th>\n",
       "      <td>2025-01-09</td>\n",
       "      <td>BOOMIT_PEIG_EC_META_ADQUISI_ANDROID_(GAMERS)_I...</td>\n",
       "      <td>Meta</td>\n",
       "      <td>56.96</td>\n",
       "      <td>10</td>\n",
       "      <td>29</td>\n",
       "      <td>0.344828</td>\n",
       "    </tr>\n",
       "  </tbody>\n",
       "</table>\n",
       "</div>"
      ],
      "text/plain": [
       "        Fecha                                           Campania Plataforma  \\\n",
       "0  2024-12-30  BOOMIT_PEIG_EC_META_ADQUISI_ANDROID_(GAMERS)_I...       Meta   \n",
       "1  2024-12-31  BOOMIT_PEIG_EC_META_ADQUISI_ANDROID_(GAMERS)_I...       Meta   \n",
       "2  2025-01-03  BOOMIT_PEIG_EC_META_ADQUISI_ANDROID_(GAMERS)_I...       Meta   \n",
       "3  2025-01-06  BOOMIT_PEIG_EC_META_ADQUISI_ANDROID_(GAMERS)_I...       Meta   \n",
       "4  2025-01-09  BOOMIT_PEIG_EC_META_ADQUISI_ANDROID_(GAMERS)_I...       Meta   \n",
       "\n",
       "   inversion  evento_objetivo  Instalaciones       cvr  \n",
       "0      51.68                8             15  0.533333  \n",
       "1      44.57                8             22  0.363636  \n",
       "2      59.91               15             30  0.500000  \n",
       "3      61.21                8             13  0.615385  \n",
       "4      56.96               10             29  0.344828  "
      ]
     },
     "execution_count": 3,
     "metadata": {},
     "output_type": "execute_result"
    }
   ],
   "source": [
    "%pip install pandas\n",
    "import pandas as pd\n",
    "\n",
    "# Load the CSV content into a DataFrame\n",
    "#data = pd.read_csv('file/bquxjob_157d5c5d_1941367a86e.csv')\n",
    "data = pd.read_csv('../test/datos/datos.csv')\n",
    "\n",
    "# Display the first few rows of the DataFrame to understand its structure\n",
    "data.head()"
   ]
  },
  {
   "cell_type": "code",
   "execution_count": 4,
   "metadata": {},
   "outputs": [
    {
     "data": {
      "text/plain": [
       "(       Fecha                                           Campania Plataforma  \\\n",
       " 4 2025-01-09  BOOMIT_PEIG_EC_META_ADQUISI_ANDROID_(GAMERS)_I...       Meta   \n",
       " 6 2025-01-10  BOOMIT_PEIG_EC_META_ADQUISI_ANDROID_(GAMERS)_I...       Meta   \n",
       " 7 2025-01-12  BOOMIT_PEIG_EC_META_ADQUISI_ANDROID_(GAMERS)_I...       Meta   \n",
       " 8 2025-01-08  BOOMIT_PEIG_EC_META_ADQUISI_ANDROID_(GAMERS)_I...       Meta   \n",
       " 9 2025-01-13  BOOMIT_PEIG_EC_META_ADQUISI_ANDROID_(GAMERS)_I...       Meta   \n",
       " \n",
       "    inversion  evento_objetivo  Instalaciones       cvr  \n",
       " 4      56.96               10             29  0.344828  \n",
       " 6      60.95               12             31  0.387097  \n",
       " 7      65.54               12             37  0.324324  \n",
       " 8      56.16                9             21  0.428571  \n",
       " 9      61.01               18             37  0.486486  ,\n",
       "         Fecha                                           Campania Plataforma  \\\n",
       " 1  2024-12-31  BOOMIT_PEIG_EC_META_ADQUISI_ANDROID_(GAMERS)_I...       Meta   \n",
       " 2  2025-01-03  BOOMIT_PEIG_EC_META_ADQUISI_ANDROID_(GAMERS)_I...       Meta   \n",
       " 3  2025-01-06  BOOMIT_PEIG_EC_META_ADQUISI_ANDROID_(GAMERS)_I...       Meta   \n",
       " 5  2025-01-04  BOOMIT_PEIG_EC_META_ADQUISI_ANDROID_(GAMERS)_I...       Meta   \n",
       " 11 2025-01-01  BOOMIT_PEIG_EC_META_ADQUISI_ANDROID_(GAMERS)_I...       Meta   \n",
       " \n",
       "     inversion  evento_objetivo  Instalaciones       cvr  \n",
       " 1       44.57                8             22  0.363636  \n",
       " 2       59.91               15             30  0.500000  \n",
       " 3       61.21                8             13  0.615385  \n",
       " 5       54.65               13             24  0.541667  \n",
       " 11      48.31                4             21  0.190476  )"
      ]
     },
     "execution_count": 4,
     "metadata": {},
     "output_type": "execute_result"
    }
   ],
   "source": [
    "# Convert 'Fecha' to datetime format\n",
    "data['Fecha'] = pd.to_datetime(data['Fecha'])\n",
    "\n",
    "# Find the most recent date in the dataset\n",
    "most_recent_date = data['Fecha'].max()\n",
    "\n",
    "# Define the two periods for comparison\n",
    "period_current_end = most_recent_date\n",
    "period_current_start = period_current_end - pd.Timedelta(days=6)\n",
    "period_previous_end = period_current_start - pd.Timedelta(days=1)\n",
    "period_previous_start = period_previous_end - pd.Timedelta(days=6)\n",
    "\n",
    "# Filter data for the two periods\n",
    "df_current = data[(data['Fecha'] >= period_current_start) & (data['Fecha'] <= period_current_end)]\n",
    "df_previous = data[(data['Fecha'] >= period_previous_start) & (data['Fecha'] <= period_previous_end)]\n",
    "\n",
    "# Check the filtered data\n",
    "df_current.head(), df_previous.head()"
   ]
  },
  {
   "cell_type": "code",
   "execution_count": 5,
   "metadata": {},
   "outputs": [
    {
     "name": "stderr",
     "output_type": "stream",
     "text": [
      "C:\\Users\\user\\AppData\\Local\\Temp\\ipykernel_37872\\2157055148.py:3: SettingWithCopyWarning: \n",
      "A value is trying to be set on a copy of a slice from a DataFrame.\n",
      "Try using .loc[row_indexer,col_indexer] = value instead\n",
      "\n",
      "See the caveats in the documentation: https://pandas.pydata.org/pandas-docs/stable/user_guide/indexing.html#returning-a-view-versus-a-copy\n",
      "  df_current['inversion'] = pd.to_numeric(df_current['inversion'], errors='coerce')\n",
      "C:\\Users\\user\\AppData\\Local\\Temp\\ipykernel_37872\\2157055148.py:4: SettingWithCopyWarning: \n",
      "A value is trying to be set on a copy of a slice from a DataFrame.\n",
      "Try using .loc[row_indexer,col_indexer] = value instead\n",
      "\n",
      "See the caveats in the documentation: https://pandas.pydata.org/pandas-docs/stable/user_guide/indexing.html#returning-a-view-versus-a-copy\n",
      "  df_previous['inversion'] = pd.to_numeric(df_previous['inversion'], errors='coerce')\n"
     ]
    },
    {
     "data": {
      "text/plain": [
       "{'Meta': {'inv_prev': np.float64(1098.52),\n",
       "  'cost_prev': np.float64(4.86070796460177),\n",
       "  'inv_curr': np.float64(1079.6000000000001),\n",
       "  'cost_curr': np.float64(4.284126984126985),\n",
       "  'cost_change_pct': np.float64(-11.862078213168752),\n",
       "  'inv_change_pct': np.float64(-1.722317299639501)},\n",
       " 'TikTok Ads': {'inv_prev': np.float64(1301.6599999999999),\n",
       "  'cost_prev': np.float64(3.198181818181818),\n",
       "  'inv_curr': np.float64(881.75),\n",
       "  'cost_curr': np.float64(3.1832129963898916),\n",
       "  'cost_change_pct': np.float64(-0.4680416137327679),\n",
       "  'inv_change_pct': np.float64(-32.259576233425)},\n",
       " 'Google Ads': {'inv_prev': np.float64(3265.98),\n",
       "  'cost_prev': np.float64(3.0637711069418385),\n",
       "  'inv_curr': np.float64(3073.3900000000003),\n",
       "  'cost_curr': np.float64(2.9159297912713478),\n",
       "  'cost_change_pct': np.float64(-4.825468695605703),\n",
       "  'inv_change_pct': np.float64(-5.896851787212404)}}"
      ]
     },
     "execution_count": 5,
     "metadata": {},
     "output_type": "execute_result"
    }
   ],
   "source": [
    "# Convert 'inversion' column to numeric\n",
    "data['inversion'] = pd.to_numeric(data['inversion'], errors='coerce')\n",
    "df_current['inversion'] = pd.to_numeric(df_current['inversion'], errors='coerce')\n",
    "df_previous['inversion'] = pd.to_numeric(df_previous['inversion'], errors='coerce')\n",
    "\n",
    "# Function to calculate metrics for a given period and platform\n",
    "def calculate_metrics(df, platform):\n",
    "    df_platform = df[df['Plataforma'] == platform]\n",
    "    total_inversion = df_platform['inversion'].sum()\n",
    "    total_eventos = df_platform['evento_objetivo'].sum()\n",
    "    costo_medio = total_inversion / total_eventos if total_eventos != 0 else 0\n",
    "    return total_inversion, costo_medio\n",
    "\n",
    "# Get unique platforms\n",
    "platforms = data['Plataforma'].unique()\n",
    "\n",
    "# Calculate metrics for each platform in both periods\n",
    "results = {\n",
    "}\n",
    "for platform in platforms:\n",
    "    inv_prev, cost_prev = calculate_metrics(df_previous, platform)\n",
    "    inv_curr, cost_curr = calculate_metrics(df_current, platform)\n",
    "    results[platform] = {\n",
    "        'inv_prev': inv_prev,\n",
    "        'cost_prev': cost_prev,\n",
    "        'inv_curr': inv_curr,\n",
    "        'cost_curr': cost_curr,\n",
    "        'cost_change_pct': ((cost_curr - cost_prev) / cost_prev * 100) if cost_prev != 0 else 0,\n",
    "        'inv_change_pct': ((inv_curr - inv_prev) / inv_prev * 100) if inv_prev != 0 else 0\n",
    "    }\n",
    "\n",
    "results"
   ]
  },
  {
   "cell_type": "code",
   "execution_count": 6,
   "metadata": {},
   "outputs": [
    {
     "name": "stdout",
     "output_type": "stream",
     "text": [
      "Platform: Meta\n",
      "inv_prev: 1098.52\n",
      "cost_prev: 4.86070796460177\n",
      "inv_curr: 1079.6000000000001\n",
      "cost_curr: 4.284126984126985\n",
      "cost_change_pct: -11.862078213168752\n",
      "inv_change_pct: -1.722317299639501\n",
      "\n",
      "Platform: TikTok Ads\n",
      "inv_prev: 1301.6599999999999\n",
      "cost_prev: 3.198181818181818\n",
      "inv_curr: 881.75\n",
      "cost_curr: 3.1832129963898916\n",
      "cost_change_pct: -0.4680416137327679\n",
      "inv_change_pct: -32.259576233425\n",
      "\n",
      "Platform: Google Ads\n",
      "inv_prev: 3265.98\n",
      "cost_prev: 3.0637711069418385\n",
      "inv_curr: 3073.3900000000003\n",
      "cost_curr: 2.9159297912713478\n",
      "cost_change_pct: -4.825468695605703\n",
      "inv_change_pct: -5.896851787212404\n",
      "\n"
     ]
    }
   ],
   "source": [
    "for plt in results:\n",
    "    print(f\"Platform: {plt}\")\n",
    "    for key, value in results[plt].items():\n",
    "        print(f\"{key}: {value}\")\n",
    "    print()"
   ]
  }
 ],
 "metadata": {
  "kernelspec": {
   "display_name": "3.10.11",
   "language": "python",
   "name": "python3"
  },
  "language_info": {
   "codemirror_mode": {
    "name": "ipython",
    "version": 3
   },
   "file_extension": ".py",
   "mimetype": "text/x-python",
   "name": "python",
   "nbconvert_exporter": "python",
   "pygments_lexer": "ipython3",
   "version": "3.10.11"
  }
 },
 "nbformat": 4,
 "nbformat_minor": 2
}
