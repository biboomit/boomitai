{
 "cells": [
  {
   "cell_type": "code",
   "execution_count": 2,
   "metadata": {},
   "outputs": [
    {
     "name": "stdout",
     "output_type": "stream",
     "text": [
      "Requirement already satisfied: pandas in c:\\users\\user\\.pyenv\\pyenv-win\\versions\\3.10.11\\lib\\site-packages (2.2.3)\n",
      "Requirement already satisfied: numpy>=1.22.4 in c:\\users\\user\\.pyenv\\pyenv-win\\versions\\3.10.11\\lib\\site-packages (from pandas) (2.2.1)\n",
      "Requirement already satisfied: python-dateutil>=2.8.2 in c:\\users\\user\\.pyenv\\pyenv-win\\versions\\3.10.11\\lib\\site-packages (from pandas) (2.9.0.post0)\n",
      "Requirement already satisfied: pytz>=2020.1 in c:\\users\\user\\.pyenv\\pyenv-win\\versions\\3.10.11\\lib\\site-packages (from pandas) (2024.2)\n",
      "Requirement already satisfied: tzdata>=2022.7 in c:\\users\\user\\.pyenv\\pyenv-win\\versions\\3.10.11\\lib\\site-packages (from pandas) (2024.2)\n",
      "Requirement already satisfied: six>=1.5 in c:\\users\\user\\.pyenv\\pyenv-win\\versions\\3.10.11\\lib\\site-packages (from python-dateutil>=2.8.2->pandas) (1.17.0)\n",
      "Note: you may need to restart the kernel to use updated packages.\n"
     ]
    },
    {
     "name": "stderr",
     "output_type": "stream",
     "text": [
      "\n",
      "[notice] A new release of pip is available: 23.0.1 -> 24.3.1\n",
      "[notice] To update, run: c:\\Users\\user\\.pyenv\\pyenv-win\\versions\\3.10.11\\python.exe -m pip install --upgrade pip\n"
     ]
    },
    {
     "data": {
      "text/html": [
       "<div>\n",
       "<style scoped>\n",
       "    .dataframe tbody tr th:only-of-type {\n",
       "        vertical-align: middle;\n",
       "    }\n",
       "\n",
       "    .dataframe tbody tr th {\n",
       "        vertical-align: top;\n",
       "    }\n",
       "\n",
       "    .dataframe thead th {\n",
       "        text-align: right;\n",
       "    }\n",
       "</style>\n",
       "<table border=\"1\" class=\"dataframe\">\n",
       "  <thead>\n",
       "    <tr style=\"text-align: right;\">\n",
       "      <th></th>\n",
       "      <th>Fecha</th>\n",
       "      <th>Campania</th>\n",
       "      <th>Plataforma</th>\n",
       "      <th>inversion</th>\n",
       "      <th>evento_objetivo</th>\n",
       "      <th>Instalaciones</th>\n",
       "      <th>cvr</th>\n",
       "    </tr>\n",
       "  </thead>\n",
       "  <tbody>\n",
       "    <tr>\n",
       "      <th>0</th>\n",
       "      <td>2024-12-14</td>\n",
       "      <td>BOOMIT_PEIG_EC_GADS_ADQUISI_ANDROID_(PRIMTARJ)...</td>\n",
       "      <td>Google Ads</td>\n",
       "      <td>424.01</td>\n",
       "      <td>120</td>\n",
       "      <td>431</td>\n",
       "      <td>0.278422</td>\n",
       "    </tr>\n",
       "    <tr>\n",
       "      <th>1</th>\n",
       "      <td>2024-12-14</td>\n",
       "      <td>BOOMIT_PEIG_EC_META_ADQUISI_ANDROID_(GAMERS)_I...</td>\n",
       "      <td>Meta</td>\n",
       "      <td>31.16</td>\n",
       "      <td>9</td>\n",
       "      <td>27</td>\n",
       "      <td>0.333333</td>\n",
       "    </tr>\n",
       "    <tr>\n",
       "      <th>2</th>\n",
       "      <td>2024-12-14</td>\n",
       "      <td>BOOMIT_PEIG_EC_META_ADQUISI_ANDROID_(PRIMTARJ)...</td>\n",
       "      <td>Meta</td>\n",
       "      <td>58.88</td>\n",
       "      <td>19</td>\n",
       "      <td>45</td>\n",
       "      <td>0.422222</td>\n",
       "    </tr>\n",
       "    <tr>\n",
       "      <th>3</th>\n",
       "      <td>2024-12-14</td>\n",
       "      <td>BOOMIT_PEIG_EC_META_TRAFICO_GRAL_(BIG-PROMO)_B...</td>\n",
       "      <td>Meta</td>\n",
       "      <td>10.31</td>\n",
       "      <td>0</td>\n",
       "      <td>0</td>\n",
       "      <td>0.000000</td>\n",
       "    </tr>\n",
       "    <tr>\n",
       "      <th>4</th>\n",
       "      <td>2024-12-14</td>\n",
       "      <td>BOOMIT_PEIG_EC_META_TRAFICO_GRAL_(PROMO-PEIGO-...</td>\n",
       "      <td>Meta</td>\n",
       "      <td>19.21</td>\n",
       "      <td>0</td>\n",
       "      <td>0</td>\n",
       "      <td>0.000000</td>\n",
       "    </tr>\n",
       "  </tbody>\n",
       "</table>\n",
       "</div>"
      ],
      "text/plain": [
       "        Fecha                                           Campania  Plataforma  \\\n",
       "0  2024-12-14  BOOMIT_PEIG_EC_GADS_ADQUISI_ANDROID_(PRIMTARJ)...  Google Ads   \n",
       "1  2024-12-14  BOOMIT_PEIG_EC_META_ADQUISI_ANDROID_(GAMERS)_I...        Meta   \n",
       "2  2024-12-14  BOOMIT_PEIG_EC_META_ADQUISI_ANDROID_(PRIMTARJ)...        Meta   \n",
       "3  2024-12-14  BOOMIT_PEIG_EC_META_TRAFICO_GRAL_(BIG-PROMO)_B...        Meta   \n",
       "4  2024-12-14  BOOMIT_PEIG_EC_META_TRAFICO_GRAL_(PROMO-PEIGO-...        Meta   \n",
       "\n",
       "   inversion  evento_objetivo  Instalaciones       cvr  \n",
       "0     424.01              120            431  0.278422  \n",
       "1      31.16                9             27  0.333333  \n",
       "2      58.88               19             45  0.422222  \n",
       "3      10.31                0              0  0.000000  \n",
       "4      19.21                0              0  0.000000  "
      ]
     },
     "execution_count": 2,
     "metadata": {},
     "output_type": "execute_result"
    }
   ],
   "source": [
    "%pip install pandas\n",
    "import pandas as pd\n",
    "\n",
    "# Load the CSV content into a DataFrame\n",
    "data = pd.read_csv('file/bquxjob_157d5c5d_1941367a86e.csv')\n",
    "\n",
    "# Display the first few rows of the DataFrame to understand its structure\n",
    "data.head()"
   ]
  },
  {
   "cell_type": "code",
   "execution_count": 3,
   "metadata": {},
   "outputs": [
    {
     "data": {
      "text/plain": [
       "(        Fecha                                           Campania  Plataforma  \\\n",
       " 72 2024-12-22  BOOMIT_PEIG_EC_GADS_ADQUISI_ANDROID_(PRIMTARJ)...  Google Ads   \n",
       " 73 2024-12-22  BOOMIT_PEIG_EC_META_ADQUISI_ANDROID_(GAMERS)_I...        Meta   \n",
       " 74 2024-12-22  BOOMIT_PEIG_EC_META_ADQUISI_ANDROID_(PRIMTARJ)...        Meta   \n",
       " 75 2024-12-22  BOOMIT_PEIG_EC_META_TRAFICO_GRAL_(BIG-PROMO)_B...        Meta   \n",
       " 76 2024-12-22  BOOMIT_PEIG_EC_META_TRAFICO_GRAL_(PROMO-PEIGO-...        Meta   \n",
       " \n",
       "     inversion  evento_objetivo  Instalaciones       cvr  \n",
       " 72     408.32               85            411  0.206813  \n",
       " 73      51.71                6             18  0.333333  \n",
       " 74      80.70               17             53  0.320755  \n",
       " 75      10.49                0              0  0.000000  \n",
       " 76      21.61                0              0  0.000000  ,\n",
       "         Fecha                                           Campania  Plataforma  \\\n",
       " 9  2024-12-15  BOOMIT_PEIG_EC_GADS_ADQUISI_ANDROID_(PRIMTARJ)...  Google Ads   \n",
       " 10 2024-12-15  BOOMIT_PEIG_EC_META_ADQUISI_ANDROID_(GAMERS)_I...        Meta   \n",
       " 11 2024-12-15  BOOMIT_PEIG_EC_META_ADQUISI_ANDROID_(PRIMTARJ)...        Meta   \n",
       " 12 2024-12-15  BOOMIT_PEIG_EC_META_TRAFICO_GRAL_(BIG-PROMO)_B...        Meta   \n",
       " 13 2024-12-15  BOOMIT_PEIG_EC_META_TRAFICO_GRAL_(PROMO-PEIGO-...        Meta   \n",
       " \n",
       "     inversion  evento_objetivo  Instalaciones       cvr  \n",
       " 9      430.49               79            418  0.188995  \n",
       " 10      54.18               13             33  0.393939  \n",
       " 11      85.22               10             35  0.285714  \n",
       " 12      10.77                0              0  0.000000  \n",
       " 13      21.82                0              0  0.000000  )"
      ]
     },
     "execution_count": 3,
     "metadata": {},
     "output_type": "execute_result"
    }
   ],
   "source": [
    "# Convert 'Fecha' to datetime format\n",
    "data['Fecha'] = pd.to_datetime(data['Fecha'])\n",
    "\n",
    "# Find the most recent date in the dataset\n",
    "most_recent_date = data['Fecha'].max()\n",
    "\n",
    "# Define the two periods for comparison\n",
    "period_current_end = most_recent_date\n",
    "period_current_start = period_current_end - pd.Timedelta(days=6)\n",
    "period_previous_end = period_current_start - pd.Timedelta(days=1)\n",
    "period_previous_start = period_previous_end - pd.Timedelta(days=6)\n",
    "\n",
    "# Filter data for the two periods\n",
    "df_current = data[(data['Fecha'] >= period_current_start) & (data['Fecha'] <= period_current_end)]\n",
    "df_previous = data[(data['Fecha'] >= period_previous_start) & (data['Fecha'] <= period_previous_end)]\n",
    "\n",
    "# Check the filtered data\n",
    "df_current.head(), df_previous.head()"
   ]
  },
  {
   "cell_type": "code",
   "execution_count": 6,
   "metadata": {},
   "outputs": [
    {
     "name": "stderr",
     "output_type": "stream",
     "text": [
      "C:\\Users\\user\\AppData\\Local\\Temp\\ipykernel_24608\\2498906916.py:3: SettingWithCopyWarning: \n",
      "A value is trying to be set on a copy of a slice from a DataFrame.\n",
      "Try using .loc[row_indexer,col_indexer] = value instead\n",
      "\n",
      "See the caveats in the documentation: https://pandas.pydata.org/pandas-docs/stable/user_guide/indexing.html#returning-a-view-versus-a-copy\n",
      "  df_current['inversion'] = pd.to_numeric(df_current['inversion'], errors='coerce')\n",
      "C:\\Users\\user\\AppData\\Local\\Temp\\ipykernel_24608\\2498906916.py:4: SettingWithCopyWarning: \n",
      "A value is trying to be set on a copy of a slice from a DataFrame.\n",
      "Try using .loc[row_indexer,col_indexer] = value instead\n",
      "\n",
      "See the caveats in the documentation: https://pandas.pydata.org/pandas-docs/stable/user_guide/indexing.html#returning-a-view-versus-a-copy\n",
      "  df_previous['inversion'] = pd.to_numeric(df_previous['inversion'], errors='coerce')\n"
     ]
    },
    {
     "data": {
      "text/plain": [
       "{'fecha_inicio': '2024-12-15 to 2024-12-21',\n",
       " 'fecha_fin': '2024-12-22 to 2024-12-28',\n",
       " 'Google Ads': {'inv_prev': np.float64(2994.09),\n",
       "  'cost_prev': np.float64(4.101493150684932),\n",
       "  'inv_curr': np.float64(2841.49),\n",
       "  'cost_curr': np.float64(2.306404220779221),\n",
       "  'cost_change_pct': np.float64(-43.766717728297046),\n",
       "  'inv_change_pct': np.float64(-5.096707179810906)},\n",
       " 'Meta': {'inv_prev': np.float64(1172.85),\n",
       "  'cost_prev': np.float64(7.978571428571428),\n",
       "  'inv_curr': np.float64(1158.55),\n",
       "  'cost_curr': np.float64(6.620285714285714),\n",
       "  'cost_change_pct': np.float64(-17.024171888988356),\n",
       "  'inv_change_pct': np.float64(-1.2192522487956647)},\n",
       " 'TikTok Ads': {'inv_prev': np.float64(1358.0),\n",
       "  'cost_prev': np.float64(5.588477366255144),\n",
       "  'inv_curr': np.float64(1358.0),\n",
       "  'cost_curr': np.float64(3.3865336658354113),\n",
       "  'cost_change_pct': np.float64(-39.40149625935162),\n",
       "  'inv_change_pct': np.float64(0.0)}}"
      ]
     },
     "execution_count": 6,
     "metadata": {},
     "output_type": "execute_result"
    }
   ],
   "source": [
    "# Convert 'inversion' column to numeric\n",
    "data['inversion'] = pd.to_numeric(data['inversion'], errors='coerce')\n",
    "df_current['inversion'] = pd.to_numeric(df_current['inversion'], errors='coerce')\n",
    "df_previous['inversion'] = pd.to_numeric(df_previous['inversion'], errors='coerce')\n",
    "\n",
    "# Function to calculate metrics for a given period and platform\n",
    "def calculate_metrics(df, platform):\n",
    "    df_platform = df[df['Plataforma'] == platform]\n",
    "    total_inversion = df_platform['inversion'].sum()\n",
    "    total_eventos = df_platform['evento_objetivo'].sum()\n",
    "    costo_medio = total_inversion / total_eventos if total_eventos != 0 else 0\n",
    "    return total_inversion, costo_medio\n",
    "\n",
    "# Get unique platforms\n",
    "platforms = data['Plataforma'].unique()\n",
    "\n",
    "# Calculate metrics for each platform in both periods\n",
    "results = {\n",
    "    'fecha_inicio': period_previous_start.strftime('%Y-%m-%d') + ' to ' + period_previous_end.strftime('%Y-%m-%d'),\n",
    "    'fecha_fin': period_current_start.strftime('%Y-%m-%d') + ' to ' + period_current_end.strftime('%Y-%m-%d')\n",
    "}\n",
    "for platform in platforms:\n",
    "    inv_prev, cost_prev = calculate_metrics(df_previous, platform)\n",
    "    inv_curr, cost_curr = calculate_metrics(df_current, platform)\n",
    "    results[platform] = {\n",
    "        'inv_prev': inv_prev,\n",
    "        'cost_prev': cost_prev,\n",
    "        'inv_curr': inv_curr,\n",
    "        'cost_curr': cost_curr,\n",
    "        'cost_change_pct': ((cost_curr - cost_prev) / cost_prev * 100) if cost_prev != 0 else 0,\n",
    "        'inv_change_pct': ((inv_curr - inv_prev) / inv_prev * 100) if inv_prev != 0 else 0\n",
    "    }\n",
    "\n",
    "results"
   ]
  },
  {
   "cell_type": "code",
   "execution_count": 5,
   "metadata": {},
   "outputs": [
    {
     "name": "stdout",
     "output_type": "stream",
     "text": [
      "Platform: 2024-12-15 to 2024-12-21\n",
      "\n",
      "Platform: 2024-12-22 to 2024-12-28\n",
      "\n",
      "Platform: Google Ads\n",
      "inv_prev: 2994.09\n",
      "cost_prev: 4.101493150684932\n",
      "inv_curr: 2841.49\n",
      "cost_curr: 2.306404220779221\n",
      "cost_change_pct: -43.766717728297046\n",
      "inv_change_pct: -5.096707179810906\n",
      "\n",
      "Platform: Meta\n",
      "inv_prev: 1172.85\n",
      "cost_prev: 7.978571428571428\n",
      "inv_curr: 1158.55\n",
      "cost_curr: 6.620285714285714\n",
      "cost_change_pct: -17.024171888988356\n",
      "inv_change_pct: -1.2192522487956647\n",
      "\n",
      "Platform: TikTok Ads\n",
      "inv_prev: 1358.0\n",
      "cost_prev: 5.588477366255144\n",
      "inv_curr: 1358.0\n",
      "cost_curr: 3.3865336658354113\n",
      "cost_change_pct: -39.40149625935162\n",
      "inv_change_pct: 0.0\n",
      "\n"
     ]
    }
   ],
   "source": [
    "for plt in results:\n",
    "    print(f\"Platform: {plt}\")\n",
    "    for key, value in results[plt].items():\n",
    "        print(f\"{key}: {value}\")\n",
    "    print()"
   ]
  }
 ],
 "metadata": {
  "kernelspec": {
   "display_name": "3.10.11",
   "language": "python",
   "name": "python3"
  },
  "language_info": {
   "codemirror_mode": {
    "name": "ipython",
    "version": 3
   },
   "file_extension": ".py",
   "mimetype": "text/x-python",
   "name": "python",
   "nbconvert_exporter": "python",
   "pygments_lexer": "ipython3",
   "version": "3.10.11"
  }
 },
 "nbformat": 4,
 "nbformat_minor": 2
}
