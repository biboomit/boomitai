{
 "cells": [
  {
   "cell_type": "code",
   "execution_count": 7,
   "metadata": {},
   "outputs": [
    {
     "name": "stdout",
     "output_type": "stream",
     "text": [
      "Requirement already satisfied: pandas in c:\\users\\user\\.pyenv\\pyenv-win\\versions\\3.10.11\\lib\\site-packages (2.2.3)\n",
      "Requirement already satisfied: python-dateutil>=2.8.2 in c:\\users\\user\\.pyenv\\pyenv-win\\versions\\3.10.11\\lib\\site-packages (from pandas) (2.9.0.post0)\n",
      "Requirement already satisfied: numpy>=1.22.4 in c:\\users\\user\\.pyenv\\pyenv-win\\versions\\3.10.11\\lib\\site-packages (from pandas) (2.2.1)\n",
      "Requirement already satisfied: pytz>=2020.1 in c:\\users\\user\\.pyenv\\pyenv-win\\versions\\3.10.11\\lib\\site-packages (from pandas) (2024.2)\n",
      "Requirement already satisfied: tzdata>=2022.7 in c:\\users\\user\\.pyenv\\pyenv-win\\versions\\3.10.11\\lib\\site-packages (from pandas) (2024.2)\n",
      "Requirement already satisfied: six>=1.5 in c:\\users\\user\\.pyenv\\pyenv-win\\versions\\3.10.11\\lib\\site-packages (from python-dateutil>=2.8.2->pandas) (1.17.0)\n",
      "Note: you may need to restart the kernel to use updated packages.\n"
     ]
    },
    {
     "name": "stderr",
     "output_type": "stream",
     "text": [
      "\n",
      "[notice] A new release of pip is available: 23.0.1 -> 24.3.1\n",
      "[notice] To update, run: c:\\Users\\user\\.pyenv\\pyenv-win\\versions\\3.10.11\\python.exe -m pip install --upgrade pip\n"
     ]
    },
    {
     "data": {
      "text/html": [
       "<div>\n",
       "<style scoped>\n",
       "    .dataframe tbody tr th:only-of-type {\n",
       "        vertical-align: middle;\n",
       "    }\n",
       "\n",
       "    .dataframe tbody tr th {\n",
       "        vertical-align: top;\n",
       "    }\n",
       "\n",
       "    .dataframe thead th {\n",
       "        text-align: right;\n",
       "    }\n",
       "</style>\n",
       "<table border=\"1\" class=\"dataframe\">\n",
       "  <thead>\n",
       "    <tr style=\"text-align: right;\">\n",
       "      <th></th>\n",
       "      <th>Fecha</th>\n",
       "      <th>Campania</th>\n",
       "      <th>Plataforma</th>\n",
       "      <th>inversion</th>\n",
       "      <th>evento_objetivo</th>\n",
       "      <th>Instalaciones</th>\n",
       "      <th>cvr</th>\n",
       "    </tr>\n",
       "  </thead>\n",
       "  <tbody>\n",
       "    <tr>\n",
       "      <th>0</th>\n",
       "      <td>2024-12-29</td>\n",
       "      <td>BOOMIT_PEIG_EC_META_ADQUISI_ANDROID_(PRIMTARJ)...</td>\n",
       "      <td>Meta</td>\n",
       "      <td>80.89</td>\n",
       "      <td>22</td>\n",
       "      <td>56</td>\n",
       "      <td>0.392857</td>\n",
       "    </tr>\n",
       "    <tr>\n",
       "      <th>1</th>\n",
       "      <td>2024-12-26</td>\n",
       "      <td>BOOMIT_PEIG_EC_META_ADQUISI_ANDROID_(PRIMTARJ)...</td>\n",
       "      <td>Meta</td>\n",
       "      <td>81.39</td>\n",
       "      <td>25</td>\n",
       "      <td>62</td>\n",
       "      <td>0.403226</td>\n",
       "    </tr>\n",
       "    <tr>\n",
       "      <th>2</th>\n",
       "      <td>2024-12-27</td>\n",
       "      <td>BOOMIT_PEIG_EC_META_ADQUISI_ANDROID_(PRIMTARJ)...</td>\n",
       "      <td>Meta</td>\n",
       "      <td>70.58</td>\n",
       "      <td>33</td>\n",
       "      <td>70</td>\n",
       "      <td>0.471429</td>\n",
       "    </tr>\n",
       "    <tr>\n",
       "      <th>3</th>\n",
       "      <td>2025-01-02</td>\n",
       "      <td>BOOMIT_PEIG_EC_META_ADQUISI_ANDROID_(GAMERS)_I...</td>\n",
       "      <td>Meta</td>\n",
       "      <td>58.12</td>\n",
       "      <td>9</td>\n",
       "      <td>28</td>\n",
       "      <td>0.321429</td>\n",
       "    </tr>\n",
       "    <tr>\n",
       "      <th>4</th>\n",
       "      <td>2024-12-30</td>\n",
       "      <td>BOOMIT_PEIG_EC_META_ADQUISI_ANDROID_(PRIMTARJ)...</td>\n",
       "      <td>Meta</td>\n",
       "      <td>84.04</td>\n",
       "      <td>31</td>\n",
       "      <td>70</td>\n",
       "      <td>0.442857</td>\n",
       "    </tr>\n",
       "  </tbody>\n",
       "</table>\n",
       "</div>"
      ],
      "text/plain": [
       "        Fecha                                           Campania Plataforma  \\\n",
       "0  2024-12-29  BOOMIT_PEIG_EC_META_ADQUISI_ANDROID_(PRIMTARJ)...       Meta   \n",
       "1  2024-12-26  BOOMIT_PEIG_EC_META_ADQUISI_ANDROID_(PRIMTARJ)...       Meta   \n",
       "2  2024-12-27  BOOMIT_PEIG_EC_META_ADQUISI_ANDROID_(PRIMTARJ)...       Meta   \n",
       "3  2025-01-02  BOOMIT_PEIG_EC_META_ADQUISI_ANDROID_(GAMERS)_I...       Meta   \n",
       "4  2024-12-30  BOOMIT_PEIG_EC_META_ADQUISI_ANDROID_(PRIMTARJ)...       Meta   \n",
       "\n",
       "   inversion  evento_objetivo  Instalaciones       cvr  \n",
       "0      80.89               22             56  0.392857  \n",
       "1      81.39               25             62  0.403226  \n",
       "2      70.58               33             70  0.471429  \n",
       "3      58.12                9             28  0.321429  \n",
       "4      84.04               31             70  0.442857  "
      ]
     },
     "execution_count": 7,
     "metadata": {},
     "output_type": "execute_result"
    }
   ],
   "source": [
    "%pip install pandas\n",
    "import pandas as pd\n",
    "\n",
    "# Load the CSV content into a DataFrame\n",
    "#data = pd.read_csv('file/bquxjob_157d5c5d_1941367a86e.csv')\n",
    "data = pd.read_csv('file/datos4.csv')\n",
    "\n",
    "# Display the first few rows of the DataFrame to understand its structure\n",
    "data.head()"
   ]
  },
  {
   "cell_type": "code",
   "execution_count": 8,
   "metadata": {},
   "outputs": [
    {
     "data": {
      "text/plain": [
       "(        Fecha                                           Campania  Plataforma  \\\n",
       " 5  2025-01-04  BOOMIT_PEIG_EC_META_ADQUISI_ANDROID_(PRIMTARJ)...        Meta   \n",
       " 6  2025-01-03  BOOMIT_PEIG_EC_META_ADQUISI_ANDROID_(GAMERS)_I...        Meta   \n",
       " 8  2025-01-05  BOOMIT_PEIG_EC_TIKT_ADQUISI_ANDROID_(REGISTRO-...  TikTok Ads   \n",
       " 11 2025-01-06  BOOMIT_PEIG_EC_TIKT_ADQUISI_ANDROID_(REGISTRO-...  TikTok Ads   \n",
       " 12 2025-01-03  BOOMIT_PEIG_EC_TIKT_ADQUISI_ANDROID_(REGISTRO-...  TikTok Ads   \n",
       " \n",
       "     inversion  evento_objetivo  Instalaciones       cvr  \n",
       " 5       93.40               29             72  0.402778  \n",
       " 6       59.91               15             30  0.500000  \n",
       " 8      156.00               54            281  0.192171  \n",
       " 11     164.63               67            291  0.230241  \n",
       " 12     156.00               65            245  0.265306  ,\n",
       "        Fecha                                           Campania  Plataforma  \\\n",
       " 0 2024-12-29  BOOMIT_PEIG_EC_META_ADQUISI_ANDROID_(PRIMTARJ)...        Meta   \n",
       " 2 2024-12-27  BOOMIT_PEIG_EC_META_ADQUISI_ANDROID_(PRIMTARJ)...        Meta   \n",
       " 3 2025-01-02  BOOMIT_PEIG_EC_META_ADQUISI_ANDROID_(GAMERS)_I...        Meta   \n",
       " 4 2024-12-30  BOOMIT_PEIG_EC_META_ADQUISI_ANDROID_(PRIMTARJ)...        Meta   \n",
       " 7 2025-01-02  BOOMIT_PEIG_EC_TIKT_ADQUISI_ANDROID_(REGISTRO-...  TikTok Ads   \n",
       " \n",
       "    inversion  evento_objetivo  Instalaciones       cvr  \n",
       " 0      80.89               22             56  0.392857  \n",
       " 2      70.58               33             70  0.471429  \n",
       " 3      58.12                9             28  0.321429  \n",
       " 4      84.04               31             70  0.442857  \n",
       " 7     156.00               64            287  0.222997  )"
      ]
     },
     "execution_count": 8,
     "metadata": {},
     "output_type": "execute_result"
    }
   ],
   "source": [
    "# Convert 'Fecha' to datetime format\n",
    "data['Fecha'] = pd.to_datetime(data['Fecha'])\n",
    "\n",
    "# Find the most recent date in the dataset\n",
    "most_recent_date = data['Fecha'].max()\n",
    "\n",
    "# Define the two periods for comparison\n",
    "period_current_end = most_recent_date\n",
    "period_current_start = period_current_end - pd.Timedelta(days=6)\n",
    "period_previous_end = period_current_start - pd.Timedelta(days=1)\n",
    "period_previous_start = period_previous_end - pd.Timedelta(days=6)\n",
    "\n",
    "# Filter data for the two periods\n",
    "df_current = data[(data['Fecha'] >= period_current_start) & (data['Fecha'] <= period_current_end)]\n",
    "df_previous = data[(data['Fecha'] >= period_previous_start) & (data['Fecha'] <= period_previous_end)]\n",
    "\n",
    "# Check the filtered data\n",
    "df_current.head(), df_previous.head()"
   ]
  },
  {
   "cell_type": "code",
   "execution_count": 9,
   "metadata": {},
   "outputs": [
    {
     "name": "stderr",
     "output_type": "stream",
     "text": [
      "C:\\Users\\user\\AppData\\Local\\Temp\\ipykernel_18616\\2157055148.py:3: SettingWithCopyWarning: \n",
      "A value is trying to be set on a copy of a slice from a DataFrame.\n",
      "Try using .loc[row_indexer,col_indexer] = value instead\n",
      "\n",
      "See the caveats in the documentation: https://pandas.pydata.org/pandas-docs/stable/user_guide/indexing.html#returning-a-view-versus-a-copy\n",
      "  df_current['inversion'] = pd.to_numeric(df_current['inversion'], errors='coerce')\n",
      "C:\\Users\\user\\AppData\\Local\\Temp\\ipykernel_18616\\2157055148.py:4: SettingWithCopyWarning: \n",
      "A value is trying to be set on a copy of a slice from a DataFrame.\n",
      "Try using .loc[row_indexer,col_indexer] = value instead\n",
      "\n",
      "See the caveats in the documentation: https://pandas.pydata.org/pandas-docs/stable/user_guide/indexing.html#returning-a-view-versus-a-copy\n",
      "  df_previous['inversion'] = pd.to_numeric(df_previous['inversion'], errors='coerce')\n"
     ]
    },
    {
     "data": {
      "text/plain": [
       "{'Meta': {'inv_prev': np.float64(1132.44),\n",
       "  'cost_prev': np.float64(5.606138613861386),\n",
       "  'inv_curr': np.float64(1067.1399999999999),\n",
       "  'cost_curr': np.float64(4.21794466403162),\n",
       "  'cost_change_pct': np.float64(-24.7620340031801),\n",
       "  'inv_change_pct': np.float64(-5.7663099148740935)},\n",
       " 'TikTok Ads': {'inv_prev': np.float64(1346.12),\n",
       "  'cost_prev': np.float64(2.939126637554585),\n",
       "  'inv_curr': np.float64(1145.6299999999999),\n",
       "  'cost_curr': np.float64(2.6955999999999998),\n",
       "  'cost_change_pct': np.float64(-8.285680325676765),\n",
       "  'inv_change_pct': np.float64(-14.893917332778656)},\n",
       " 'Google Ads': {'inv_prev': np.float64(3204.24),\n",
       "  'cost_prev': np.float64(2.2517498243148277),\n",
       "  'inv_curr': np.float64(3104.0199999999995),\n",
       "  'cost_curr': np.float64(2.756678507992895),\n",
       "  'cost_change_pct': np.float64(22.42383581984775),\n",
       "  'inv_change_pct': np.float64(-3.127730756747318)}}"
      ]
     },
     "execution_count": 9,
     "metadata": {},
     "output_type": "execute_result"
    }
   ],
   "source": [
    "# Convert 'inversion' column to numeric\n",
    "data['inversion'] = pd.to_numeric(data['inversion'], errors='coerce')\n",
    "df_current['inversion'] = pd.to_numeric(df_current['inversion'], errors='coerce')\n",
    "df_previous['inversion'] = pd.to_numeric(df_previous['inversion'], errors='coerce')\n",
    "\n",
    "# Function to calculate metrics for a given period and platform\n",
    "def calculate_metrics(df, platform):\n",
    "    df_platform = df[df['Plataforma'] == platform]\n",
    "    total_inversion = df_platform['inversion'].sum()\n",
    "    total_eventos = df_platform['evento_objetivo'].sum()\n",
    "    costo_medio = total_inversion / total_eventos if total_eventos != 0 else 0\n",
    "    return total_inversion, costo_medio\n",
    "\n",
    "# Get unique platforms\n",
    "platforms = data['Plataforma'].unique()\n",
    "\n",
    "# Calculate metrics for each platform in both periods\n",
    "results = {\n",
    "}\n",
    "for platform in platforms:\n",
    "    inv_prev, cost_prev = calculate_metrics(df_previous, platform)\n",
    "    inv_curr, cost_curr = calculate_metrics(df_current, platform)\n",
    "    results[platform] = {\n",
    "        'inv_prev': inv_prev,\n",
    "        'cost_prev': cost_prev,\n",
    "        'inv_curr': inv_curr,\n",
    "        'cost_curr': cost_curr,\n",
    "        'cost_change_pct': ((cost_curr - cost_prev) / cost_prev * 100) if cost_prev != 0 else 0,\n",
    "        'inv_change_pct': ((inv_curr - inv_prev) / inv_prev * 100) if inv_prev != 0 else 0\n",
    "    }\n",
    "\n",
    "results"
   ]
  },
  {
   "cell_type": "code",
   "execution_count": 10,
   "metadata": {},
   "outputs": [
    {
     "name": "stdout",
     "output_type": "stream",
     "text": [
      "Platform: Meta\n",
      "inv_prev: 1132.44\n",
      "cost_prev: 5.606138613861386\n",
      "inv_curr: 1067.1399999999999\n",
      "cost_curr: 4.21794466403162\n",
      "cost_change_pct: -24.7620340031801\n",
      "inv_change_pct: -5.7663099148740935\n",
      "\n",
      "Platform: TikTok Ads\n",
      "inv_prev: 1346.12\n",
      "cost_prev: 2.939126637554585\n",
      "inv_curr: 1145.6299999999999\n",
      "cost_curr: 2.6955999999999998\n",
      "cost_change_pct: -8.285680325676765\n",
      "inv_change_pct: -14.893917332778656\n",
      "\n",
      "Platform: Google Ads\n",
      "inv_prev: 3204.24\n",
      "cost_prev: 2.2517498243148277\n",
      "inv_curr: 3104.0199999999995\n",
      "cost_curr: 2.756678507992895\n",
      "cost_change_pct: 22.42383581984775\n",
      "inv_change_pct: -3.127730756747318\n",
      "\n"
     ]
    }
   ],
   "source": [
    "for plt in results:\n",
    "    print(f\"Platform: {plt}\")\n",
    "    for key, value in results[plt].items():\n",
    "        print(f\"{key}: {value}\")\n",
    "    print()"
   ]
  }
 ],
 "metadata": {
  "kernelspec": {
   "display_name": "3.10.11",
   "language": "python",
   "name": "python3"
  },
  "language_info": {
   "codemirror_mode": {
    "name": "ipython",
    "version": 3
   },
   "file_extension": ".py",
   "mimetype": "text/x-python",
   "name": "python",
   "nbconvert_exporter": "python",
   "pygments_lexer": "ipython3",
   "version": "3.10.11"
  }
 },
 "nbformat": 4,
 "nbformat_minor": 2
}
