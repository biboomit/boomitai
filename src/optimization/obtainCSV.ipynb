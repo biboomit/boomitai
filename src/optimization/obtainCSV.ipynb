{
 "cells": [
  {
   "cell_type": "code",
   "execution_count": null,
   "metadata": {},
   "outputs": [],
   "source": [
    "import json\n",
    "\n",
    "# Load the JSONL file to inspect its contents\n",
    "file_path = '/mnt/data/file-GmWnwBofvZ7U7eMeoUVkQ3'\n",
    "with open(file_path, 'r') as file:\n",
    "    lines = file.readlines()\n",
    "\n",
    "# Parse the first line to understand the structure\n",
    "first_line = json.loads(lines[0])\n",
    "first_line"
   ]
  },
  {
   "cell_type": "code",
   "execution_count": null,
   "metadata": {},
   "outputs": [],
   "source": [
    "import pandas as pd\n",
    "from io import StringIO\n",
    "\n",
    "# Extract the CSV string from the JSON object\n",
    "csv_data = first_line['csv']\n",
    "\n",
    "# Convert the CSV string to a DataFrame\n",
    "data = pd.read_csv(StringIO(csv_data))\n",
    "\n",
    "# Display the first few rows of the DataFrame to understand its structure\n",
    "data.head()"
   ]
  }
 ],
 "metadata": {
  "kernelspec": {
   "display_name": "3.10.11",
   "language": "python",
   "name": "python3"
  },
  "language_info": {
   "name": "python",
   "version": "3.10.11"
  }
 },
 "nbformat": 4,
 "nbformat_minor": 2
}
